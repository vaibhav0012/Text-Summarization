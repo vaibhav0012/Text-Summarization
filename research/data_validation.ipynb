{
 "cells": [
  {
   "cell_type": "code",
   "execution_count": 2,
   "metadata": {},
   "outputs": [
    {
     "data": {
      "text/plain": [
       "'e:\\\\Projects\\\\Text Summarization\\\\research'"
      ]
     },
     "execution_count": 2,
     "metadata": {},
     "output_type": "execute_result"
    }
   ],
   "source": [
    "import os\n",
    "%pwd"
   ]
  },
  {
   "cell_type": "code",
   "execution_count": 3,
   "metadata": {},
   "outputs": [
    {
     "data": {
      "text/plain": [
       "'e:\\\\Projects\\\\Text Summarization'"
      ]
     },
     "execution_count": 3,
     "metadata": {},
     "output_type": "execute_result"
    }
   ],
   "source": [
    "os.chdir(\"../\")\n",
    "%pwd"
   ]
  },
  {
   "cell_type": "code",
   "execution_count": 6,
   "metadata": {},
   "outputs": [],
   "source": [
    "from dataclasses import dataclass\n",
    "from pathlib import Path\n",
    "\n",
    "@dataclass\n",
    "class DataValidationConfig:\n",
    "    root_dir: Path\n",
    "    STATUS_FILE: str\n",
    "    ALL_REQUIRED_FILES: list"
   ]
  },
  {
   "cell_type": "code",
   "execution_count": 7,
   "metadata": {},
   "outputs": [],
   "source": [
    "from src.Text_Summarization.constants import *\n",
    "from src.Text_Summarization.utils.common import read_yaml, create_directories"
   ]
  },
  {
   "cell_type": "code",
   "execution_count": 14,
   "metadata": {},
   "outputs": [],
   "source": [
    "class ConfigrationManager:\n",
    "    def __init__(self, \n",
    "                 params_filepath= PARAMS_FILE_PATH,\n",
    "                 config_filepath= CONFIG_FILE_PATH\n",
    "                 ):\n",
    "        self.config = read_yaml(config_filepath)\n",
    "        self.params = read_yaml(params_filepath)\n",
    "\n",
    "        create_directories([self.config.artifacts_root])\n",
    "\n",
    "    def get_data_validation_config(self) -> DataValidationConfig:\n",
    "        config = self.config.data_validation\n",
    "        #print(config.root_dir)\n",
    "        create_directories([config.root_dir])\n",
    "\n",
    "        data_validation_config = DataValidationConfig(\n",
    "            root_dir = config.root_dir,\n",
    "            STATUS_FILE = config.STATUS_FILE,\n",
    "            ALL_REQUIRED_FILES = config.ALL_REQUIRED_FILES\n",
    "        )\n",
    "\n",
    "        return data_validation_config"
   ]
  },
  {
   "cell_type": "code",
   "execution_count": 15,
   "metadata": {},
   "outputs": [],
   "source": [
    "import os\n",
    "import sys\n",
    "from src.Text_Summarization.logging import logger\n",
    "from src.Text_Summarization.exception import CustomException"
   ]
  },
  {
   "cell_type": "code",
   "execution_count": 16,
   "metadata": {},
   "outputs": [],
   "source": [
    "class DataValidation:\n",
    "    def __init__(self, config: DataValidationConfig):\n",
    "        self.config = config\n",
    "    \n",
    "    def validate_all_files_exist(self) -> bool:\n",
    "        try:\n",
    "            validation_status = None\n",
    "            all_files = os.listdir(os.path.join(\"artifacts\",\"data_ingestion\",\"samsun_dataset\"))\n",
    "\n",
    "            for file in all_files:\n",
    "                if file not in self.config.ALL_REQUIRED_FILES:\n",
    "                    validation_status = False\n",
    "                    with open(self.config.STATUS_FILE, 'w') as f:\n",
    "                        f.write(f\"Validation status: {validation_status}\")\n",
    "                    logger.error(f\"File '{file}' not found in required files list.\")\n",
    "                else:\n",
    "                    logger.info(f\"File '{file}' found in required files list.\")\n",
    "                    validation_status = True\n",
    "                    with open(self.config.STATUS_FILE, 'w') as f:\n",
    "                        f.write(f\"Validation status: {validation_status}\")\n",
    "            return validation_status\n",
    "\n",
    "\n",
    "        except Exception as e:\n",
    "            raise CustomException(e,sys)"
   ]
  },
  {
   "cell_type": "code",
   "execution_count": 17,
   "metadata": {},
   "outputs": [
    {
     "name": "stdout",
     "output_type": "stream",
     "text": [
      "[ 2024-08-12 17:44:07,281 ] 23 TextSummarizationLogger - INFO - yaml file: E:\\Projects\\Text Summarization\\config\\config.yaml loaded successfully\n",
      "[ 2024-08-12 17:44:07,283 ] 23 TextSummarizationLogger - INFO - yaml file: params.yaml loaded successfully\n",
      "[ 2024-08-12 17:44:07,285 ] 41 TextSummarizationLogger - INFO - created directory at: artifacts\n",
      "[ 2024-08-12 17:44:07,286 ] 41 TextSummarizationLogger - INFO - created directory at: artifacts/data_validation\n"
     ]
    },
    {
     "ename": "CustomException",
     "evalue": "Error occured in Python Script name [C:\\Users\\HP\\AppData\\Local\\Temp\\ipykernel_23564\\1450587312.py] line number [3] error message [DataValidationConfig.__init__() got an unexpected keyword argument 'STATUS_FILE']",
     "output_type": "error",
     "traceback": [
      "\u001b[1;31m---------------------------------------------------------------------------\u001b[0m",
      "\u001b[1;31mTypeError\u001b[0m                                 Traceback (most recent call last)",
      "Cell \u001b[1;32mIn[17], line 3\u001b[0m\n\u001b[0;32m      2\u001b[0m config \u001b[38;5;241m=\u001b[39m ConfigrationManager()\n\u001b[1;32m----> 3\u001b[0m data_validation_config \u001b[38;5;241m=\u001b[39m \u001b[43mconfig\u001b[49m\u001b[38;5;241;43m.\u001b[39;49m\u001b[43mget_data_validation_config\u001b[49m\u001b[43m(\u001b[49m\u001b[43m)\u001b[49m\n\u001b[0;32m      4\u001b[0m data_validation \u001b[38;5;241m=\u001b[39m DataValidation(config \u001b[38;5;241m=\u001b[39m data_validation_config)\n",
      "Cell \u001b[1;32mIn[14], line 16\u001b[0m, in \u001b[0;36mConfigrationManager.get_data_validation_config\u001b[1;34m(self)\u001b[0m\n\u001b[0;32m     14\u001b[0m create_directories([config\u001b[38;5;241m.\u001b[39mroot_dir])\n\u001b[1;32m---> 16\u001b[0m data_validation_config \u001b[38;5;241m=\u001b[39m \u001b[43mDataValidationConfig\u001b[49m\u001b[43m(\u001b[49m\n\u001b[0;32m     17\u001b[0m \u001b[43m    \u001b[49m\u001b[43mroot_dir\u001b[49m\u001b[43m \u001b[49m\u001b[38;5;241;43m=\u001b[39;49m\u001b[43m \u001b[49m\u001b[43mconfig\u001b[49m\u001b[38;5;241;43m.\u001b[39;49m\u001b[43mroot_dir\u001b[49m\u001b[43m,\u001b[49m\n\u001b[0;32m     18\u001b[0m \u001b[43m    \u001b[49m\u001b[43mSTATUS_FILE\u001b[49m\u001b[43m \u001b[49m\u001b[38;5;241;43m=\u001b[39;49m\u001b[43m \u001b[49m\u001b[43mconfig\u001b[49m\u001b[38;5;241;43m.\u001b[39;49m\u001b[43mSTATUS_FILE\u001b[49m\u001b[43m,\u001b[49m\n\u001b[0;32m     19\u001b[0m \u001b[43m    \u001b[49m\u001b[43mALL_REQUIRED_FILES\u001b[49m\u001b[43m \u001b[49m\u001b[38;5;241;43m=\u001b[39;49m\u001b[43m \u001b[49m\u001b[43mconfig\u001b[49m\u001b[38;5;241;43m.\u001b[39;49m\u001b[43mALL_REQUIRED_FILES\u001b[49m\n\u001b[0;32m     20\u001b[0m \u001b[43m\u001b[49m\u001b[43m)\u001b[49m\n\u001b[0;32m     22\u001b[0m \u001b[38;5;28;01mreturn\u001b[39;00m data_validation_config\n",
      "\u001b[1;31mTypeError\u001b[0m: DataValidationConfig.__init__() got an unexpected keyword argument 'STATUS_FILE'",
      "\nDuring handling of the above exception, another exception occurred:\n",
      "\u001b[1;31mCustomException\u001b[0m                           Traceback (most recent call last)",
      "Cell \u001b[1;32mIn[17], line 7\u001b[0m\n\u001b[0;32m      5\u001b[0m     data_validation\u001b[38;5;241m.\u001b[39mvalidate_all_files_exist()\n\u001b[0;32m      6\u001b[0m \u001b[38;5;28;01mexcept\u001b[39;00m \u001b[38;5;167;01mException\u001b[39;00m \u001b[38;5;28;01mas\u001b[39;00m e:\n\u001b[1;32m----> 7\u001b[0m     \u001b[38;5;28;01mraise\u001b[39;00m CustomException(e,sys)\n",
      "\u001b[1;31mCustomException\u001b[0m: Error occured in Python Script name [C:\\Users\\HP\\AppData\\Local\\Temp\\ipykernel_23564\\1450587312.py] line number [3] error message [DataValidationConfig.__init__() got an unexpected keyword argument 'STATUS_FILE']"
     ]
    }
   ],
   "source": [
    "try:\n",
    "    config = ConfigrationManager()\n",
    "    data_validation_config = config.get_data_validation_config()\n",
    "    data_validation = DataValidation(config = data_validation_config)\n",
    "    data_validation.validate_all_files_exist()\n",
    "except Exception as e:\n",
    "    raise CustomException(e,sys)"
   ]
  },
  {
   "cell_type": "code",
   "execution_count": null,
   "metadata": {},
   "outputs": [],
   "source": []
  }
 ],
 "metadata": {
  "kernelspec": {
   "display_name": "Python 3",
   "language": "python",
   "name": "python3"
  },
  "language_info": {
   "codemirror_mode": {
    "name": "ipython",
    "version": 3
   },
   "file_extension": ".py",
   "mimetype": "text/x-python",
   "name": "python",
   "nbconvert_exporter": "python",
   "pygments_lexer": "ipython3",
   "version": "3.10.0"
  }
 },
 "nbformat": 4,
 "nbformat_minor": 2
}
